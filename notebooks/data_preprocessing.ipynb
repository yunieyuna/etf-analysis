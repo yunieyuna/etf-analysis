{
 "cells": [
  {
   "cell_type": "code",
   "execution_count": 82,
   "id": "a2ce5c44-f033-4d45-872a-2c8fe7e7bcbd",
   "metadata": {},
   "outputs": [],
   "source": [
    "import os\n",
    "import pandas as pd"
   ]
  },
  {
   "cell_type": "code",
   "execution_count": 86,
   "id": "ed9d5b12-e17d-4a61-ac9a-a07e94861408",
   "metadata": {},
   "outputs": [],
   "source": [
    "raw_data_folder_path = \"../data/etf_data/raw/\"\n",
    "processed_data_folder_path = \"../data/etf_data/processed/\""
   ]
  },
  {
   "cell_type": "code",
   "execution_count": 87,
   "id": "b28ca976-eebc-4350-aeed-cfce67a87820",
   "metadata": {},
   "outputs": [
    {
     "data": {
      "text/plain": [
       "['SPY.xlsx', 'SPYD.xlsx']"
      ]
     },
     "execution_count": 87,
     "metadata": {},
     "output_type": "execute_result"
    }
   ],
   "source": [
    "data_list = os.listdir(raw_data_folder_path)\n",
    "data_list.remove(\".DS_Store\")\n",
    "data_list"
   ]
  },
  {
   "cell_type": "code",
   "execution_count": 70,
   "id": "f0c4afcd-1f71-41a9-b011-1ccc794ca5bb",
   "metadata": {},
   "outputs": [],
   "source": [
    "# sheet_list = [\n",
    "#     \"profile\",\n",
    "#     \"valuation_and_dividend\",\n",
    "#     \"expense\",\n",
    "#     \"tax_analysis\",\n",
    "#     \"holdings_analysis\",\n",
    "#     \"performance\",\n",
    "# ]"
   ]
  },
  {
   "cell_type": "code",
   "execution_count": 96,
   "id": "e6fe67cd-507a-443b-96ab-3dbe64b19522",
   "metadata": {},
   "outputs": [
    {
     "name": "stdout",
     "output_type": "stream",
     "text": [
      "SPY.xlsx\n",
      "SPYD.xlsx\n"
     ]
    }
   ],
   "source": [
    "for etf in data_list:\n",
    "    print(etf)\n",
    "    df = pd.read_excel(raw_data_folder_path + etf)            \n",
    "    df[[\"value\", \"2\"]] = df[\"value\"].str.split(\":\", n=1, expand=True)\n",
    "    df.columns = [\"category\", \"key\", \"value\"]\n",
    "    df.to_csv(processed_data_folder_path + etf.split(\".\")[0] + \".csv\", index=False)"
   ]
  },
  {
   "cell_type": "code",
   "execution_count": null,
   "id": "376225ab-baa6-476e-8d96-a3691d186a0f",
   "metadata": {},
   "outputs": [],
   "source": []
  }
 ],
 "metadata": {
  "kernelspec": {
   "display_name": "Python 3 (ipykernel)",
   "language": "python",
   "name": "python3"
  },
  "language_info": {
   "codemirror_mode": {
    "name": "ipython",
    "version": 3
   },
   "file_extension": ".py",
   "mimetype": "text/x-python",
   "name": "python",
   "nbconvert_exporter": "python",
   "pygments_lexer": "ipython3",
   "version": "3.9.12"
  }
 },
 "nbformat": 4,
 "nbformat_minor": 5
}
